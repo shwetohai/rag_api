{
 "cells": [
  {
   "cell_type": "code",
   "execution_count": 18,
   "metadata": {},
   "outputs": [
    {
     "name": "stdout",
     "output_type": "stream",
     "text": [
      "200\n",
      "{'response': 'Secure VPN or encrypted channels for data transmission over public networks, firewall protection and intrusion detection systems to monitor network traffic, and secure authentication mechanisms (e.g., two-factor authentication) for user access.', 'success': True, 'error': '', 'type': [{'action': 'answer_frequently_asked_question'}], 'functions': [{'thought': 'Secure VPN or encrypted channels for data transmission over public networks, firewall protection and intrusion detection systems to monitor network traffic, and secure authentication mechanisms (e.g., two-factor authentication) for user access.', 'tool_name': 'answer_frequently_asked_question', 'raw_input': {'args': [], 'kwargs': {'question': 'What security protocols are implemented to protect patient information during transmission?'}}, 'raw_output': 'Secure VPN or encrypted channels for data transmission over public networks, firewall protection and intrusion detection systems to monitor network traffic, and secure authentication mechanisms (e.g., two-factor authentication) for user access.'}]}\n"
     ]
    }
   ],
   "source": [
    "import requests\n",
    "\n",
    "url = \"http://0.0.0.0:8000/taskproof/converse_faq\"\n",
    "headers = {\n",
    "    \"Content-Type\": \"application/json\"\n",
    "}\n",
    "data = {\n",
    "    \"message_id\": 123,\n",
    "    \"conversation_id\": 39,\n",
    "    \"consumer_id\": \"456\",\n",
    "    #\"prompt\": \"Hey I want to know who won the pm election in India. Also who won the wwe match between john cena and randy orton\",\n",
    "    #\"prompt\": \"I want to schedule my timings to 6th august 10am to 3pm\",\n",
    "    #\"prompt\": \"I want to talk to ahuman agent\"\n",
    "    #\"prompt\": \"Hey I want to know who won the pm election in India. I want to schedule my timings to 6th august 10am to 3pm\"\n",
    "    #\"prompt\": \"who won the cricket match\"\n",
    "    #\"prompt\": \"Hello\"\n",
    "    #\"prompt\": \"Thank you\"\n",
    "    #\"prompt\": \"Ticket-raising feature not working in Smaro. Can you assist?\",\n",
    "    #\"prompt\": \"Changes to my profile not reflecting in Smaro.\",\n",
    "    #\"prompt\": \"What is the Suggestive Model feature?\",\n",
    "    #\"prompt\": \"Branches facing login issues with Smaro app\",\n",
    "    #\"prompt\": \"The DICOM viewer isn't working properly\",\n",
    "    #\"prompt\": \"I'm unable to update the report in the panel. Assist me with uploading Image?\",\n",
    "    #\"prompt\": \"The DICOM viewer is showing errors. Troubleshoot?\",\n",
    "    #\"prompt\": \"How does SMARO utilize AI to optimize radiology workflows?\",\n",
    "    #\"prompt\": \"What are the challenges associated with providing 24/7 emergency radiology coverage?\"\n",
    "    \"prompt\": \"What security protocols are implemented to protect patient information during transmission?\"\n",
    "\n",
    "}\n",
    "\n",
    "response = requests.post(url, headers=headers, json=data)\n",
    "\n",
    "print(response.status_code)\n",
    "print(response.json())\n"
   ]
  },
  {
   "cell_type": "code",
   "execution_count": null,
   "metadata": {},
   "outputs": [],
   "source": [
    "#OPENAI_API_KEY=sk-proj-VivryUy3F8OjlDndBtxaT3BlbkFJUoMFJwyDZXs4Wn3iX5ej\n",
    "#db_url=database-1.cn8ujxqgl6pv.ap-south-1.rds.amazonaws.com\n",
    "#db_user = dev_user\n",
    "#db_password = \"Sm@ro#659\"\n",
    "#db_name = \"myrandon_1\""
   ]
  },
  {
   "cell_type": "code",
   "execution_count": 3,
   "metadata": {},
   "outputs": [
    {
     "name": "stdout",
     "output_type": "stream",
     "text": [
      "\n",
      "\n",
      "\u001b[1m> Entering new StuffDocumentsChain chain...\u001b[0m\n",
      "\n",
      "\n",
      "\u001b[1m> Entering new LLMChain chain...\u001b[0m\n",
      "Prompt after formatting:\n",
      "\u001b[32;1m\u001b[1;3mSystem: \n",
      "        Use the following pieces of context to answer the user's question in maximum 40 words.\n",
      "        If you don't find the answer in the provided context, just respond \"I don't know.\"\n",
      "        ---------------\n",
      "        Context: ``` What are the key benefits of adopting SMARO in a healthcare facility? A: Key benefits of SMARO include improved turnaround times, enhanced diagnostic accuracy, streamlined workflows, cost savings, and better patient outcomes through timely and effective radiology services.\n",
      "\n",
      "How does SMARO benefit healthcare providers? A: SMARO improves operational efficiency by automating tasks like study prioritization and routing. This reduces turnaround times for image interpretations, allowing healthcare providers to deliver timely and accurate diagnoses.\n",
      "\n",
      "How does SMARO contribute to cost-effectiveness in healthcare delivery? A: By reducing turnaround times and improving workflow efficiency, SMARO helps healthcare providers maximize resource utilization and improve ROI. This contributes to overall cost-effectiveness in delivering radiology services.\n",
      "\n",
      "Is SMARO adaptable to different healthcare settings and practices? A: Yes, SMARO is designed to be scalable and adaptable. It can be customized to fit the specific workflow needs and requirements of different healthcare settings, optimizing operational efficiency accordingly.\n",
      "\n",
      "Can you describe a scenario where SMARO significantly improves workflow efficiency? In a busy healthcare setting, SMARO can automatically prioritize urgent cases, ensuring they are promptly reviewed by radiologists. By automating routine tasks and optimizing resource allocation, SMARO reduces bottlenecks, minimizes delays, and improves the overall throughput of radiology services.```\n",
      "        \n",
      "Human: \n",
      "        Question: ```key benefits of adopting SMARO in a healthcare facility?```\n",
      "        \u001b[0m\n",
      "\n",
      "\u001b[1m> Finished chain.\u001b[0m\n",
      "\n",
      "\u001b[1m> Finished chain.\u001b[0m\n"
     ]
    },
    {
     "data": {
      "text/plain": [
       "'Key benefits of SMARO include improved turnaround times, enhanced diagnostic accuracy, streamlined workflows, cost savings, and better patient outcomes through timely and effective radiology services.'"
      ]
     },
     "execution_count": 3,
     "metadata": {},
     "output_type": "execute_result"
    }
   ],
   "source": [
    "from memory import RetrievalChatBot\n",
    "rag_chatbot = RetrievalChatBot()\n",
    "answer = rag_chatbot.run_rag(\"key benefits of adopting SMARO in a healthcare facility?\")\n",
    "answer"
   ]
  },
  {
   "cell_type": "code",
   "execution_count": 2,
   "metadata": {},
   "outputs": [
    {
     "name": "stdout",
     "output_type": "stream",
     "text": [
      "SMARO stands for Smart Radiology Operations. It's an advanced system that uses automation and AI-driven processes to optimize radiology workflows, helping to prioritize and streamline imaging studies, thereby enhancing efficiency in radiology service delivery.\n"
     ]
    }
   ],
   "source": [
    "print(answer)"
   ]
  },
  {
   "cell_type": "code",
   "execution_count": null,
   "metadata": {},
   "outputs": [],
   "source": [
    "[Unit]\n",
    "Description=Gunicorn instance to serve rag_api\n",
    "After=network.target\n",
    "[Service]\n",
    "User=ec2-user\n",
    "Group=nginx\n",
    "WorkingDirectory=/home/ec2-user/rag_api\n",
    "Environment=\"PATH=/home/ec2-user/rag_api/venv_rag/bin\"\n",
    "ExecStart=/home/ec2-user/rag_api/venv_rag/bin/gunicorn -w 4 -k\n",
    "uvicorn.workers.UvicornWorker main:app\n",
    "[Install]\n",
    "WantedBy=multi-user.target"
   ]
  },
  {
   "cell_type": "code",
   "execution_count": 2,
   "metadata": {},
   "outputs": [
    {
     "data": {
      "text/plain": [
       "['35fe9244-c71b-4333-9344-95b1077c9164',\n",
       " 'e3140b35-38f0-48c9-8762-952c602611cb',\n",
       " 'c364d0b5-f232-41d6-9b74-a4dc6af48eed',\n",
       " '3b04bd72-c703-4a07-81ff-21a6f64693ef',\n",
       " '9c7fb17e-9b6e-49ab-a259-ec291dd85d27',\n",
       " 'e8656097-13b8-4400-8c22-6fcf943d7203',\n",
       " '409c5f03-ab19-4f26-9479-5a9ed399cf7a',\n",
       " '407c6629-fa7f-4b18-95e4-9cfcd6459732',\n",
       " 'bc7bf889-2cea-40b7-94ad-51e35332355d',\n",
       " '9daf46c3-85dc-4b5f-85e3-7363bab983df',\n",
       " 'bd33028c-142b-4418-a154-cc9037b245e6',\n",
       " '7a92b5e2-fc50-46d0-8e06-b16e52933956',\n",
       " '43a6c56a-ea24-40df-b8b2-8d3afca37a27',\n",
       " '72f3a6b7-e6a0-4992-ad1c-27911a50451b',\n",
       " 'b2984da2-7e16-4e95-98f2-57cca3859492',\n",
       " '0f9707a8-3f3f-490d-ae96-837923ec0cfd',\n",
       " '437bf8d5-6e9c-479e-8f11-ea549f6d0275',\n",
       " '62a7b064-6209-4fe3-80e0-233bdec45f08',\n",
       " '71ce94bc-5186-483e-8c91-2d40c31ec7bd',\n",
       " 'f11747b3-b57c-4967-85f0-3fa8118ee5f1',\n",
       " 'dd404a39-52c1-452f-a4a4-4d930b1741dd',\n",
       " '9ced891e-f0af-464d-a721-c7ad31b0136e',\n",
       " '1767646b-9c72-4890-8174-3abb69688a13',\n",
       " '521422c0-976c-46c9-8d54-01b9551daf91',\n",
       " 'fc6290fe-533a-47ba-9e35-d08dc5fd364a',\n",
       " '238b41a4-e6b5-4b95-a0e5-e755b1676164',\n",
       " '3d7f3a7c-1d61-46c6-83c2-4a3fa2d4cda4',\n",
       " '5cf53c9c-4e28-4cb8-8603-bf424754d69f',\n",
       " '1bbb2baa-bcd5-4878-83fb-35d4f0445db7',\n",
       " '9d22e2d0-bca8-4a84-9af1-d2805b916467',\n",
       " '62d8a1a4-58c6-4e23-a760-f09b465cfdec',\n",
       " '673a4c30-712a-460f-a15c-15e93043595b',\n",
       " '30afe7fa-0f9e-4b73-8775-8e0c8a269f72',\n",
       " 'fa734cf6-f175-43a5-a321-82a2004f5072',\n",
       " 'd0d0880c-e184-45aa-ab39-67fa8f13ca47',\n",
       " 'dede05b5-5c1d-4631-9418-2d06c2b5ca0b',\n",
       " 'b06b9494-6c71-4cfa-a07a-93442234ef27',\n",
       " '3c1f9b15-b1a1-4084-96d8-da25eeb0ec0f',\n",
       " '5ca30593-12b0-4eec-a812-89647857fc91',\n",
       " 'f592fead-f907-41f2-ae70-0226c1272780',\n",
       " 'ebc5fb54-dac7-4218-815a-579976843664',\n",
       " 'ecfdbd38-53e2-4c22-8ce0-a808807f81fd',\n",
       " '750038d9-34b9-4d13-a117-f02442728605',\n",
       " 'd67c3461-de28-417c-b39a-860ce5473095',\n",
       " '062c14f6-79d2-42bb-8192-d39b5773976e',\n",
       " 'f3f6ff9e-06df-4328-b507-3ee7a40b2a03',\n",
       " '7da7c921-7f8f-4945-99b3-e9e88ba99a57',\n",
       " 'e0824f93-31ac-4e42-b6a4-7ed6ce810550',\n",
       " '1db8dc6c-9850-4243-8aa3-d1355c137923',\n",
       " '9985036a-e831-4b99-ba4f-713d315ea253',\n",
       " '971f18ad-34b7-4201-898a-fcba5f44beaf',\n",
       " '5d4549f7-3f41-41bc-96b8-5f7ee8975da3',\n",
       " 'fed934e2-3348-4155-a184-8ae6bb0095f4',\n",
       " '540d3c11-c2cd-4bd4-8210-999183fd40e9',\n",
       " '8a0b330c-fc9b-410c-bb36-1a8f0555d860',\n",
       " '947d1ab5-7f65-4efd-941b-c0cb8d4ed0c6',\n",
       " '8514ae60-b5bb-4b6c-9ad6-0cd2922e82b5',\n",
       " 'eacac4ae-8251-471f-913a-2e62fdc7104b',\n",
       " '73e6a89c-19f4-41a2-b41e-22b8e7b73a79',\n",
       " 'd4692de6-7805-47a3-853b-a42714fa4ebb',\n",
       " '358ffce7-e1b1-42e4-86cf-7c88290febbd',\n",
       " '1344cf3c-7b9b-48e6-b8b9-57c2a817198f',\n",
       " 'f11f305b-95a0-4093-8e83-eb0685dfc187',\n",
       " '61868a8e-f53a-4a88-87a7-d5e7218c07da',\n",
       " '16b7b241-3dbc-48a3-bd76-f0b2e3dbfaf3',\n",
       " '4b12fd1a-7c3a-4c12-b7e3-f15b4fb6fa16',\n",
       " '01a5db9f-5d4d-46ae-a016-94850a106480',\n",
       " 'f26e1187-c0c0-4123-9441-172e3704b3a5',\n",
       " 'a1700b36-58ce-405d-aadd-0019deb7edff',\n",
       " '52633e83-13b5-4fdb-afb4-be3c4d568213',\n",
       " '5b701f78-763d-4bfa-8e27-4a7d9c646481']"
      ]
     },
     "execution_count": 2,
     "metadata": {},
     "output_type": "execute_result"
    }
   ],
   "source": [
    "import pandas as pd\n",
    "from langchain_chroma import Chroma\n",
    "from langchain_openai import OpenAIEmbeddings\n",
    "from dotenv import load_dotenv\n",
    "from uuid import uuid4\n",
    "from langchain.docstore.document import Document\n",
    "\n",
    "# Load environment variables\n",
    "load_dotenv()\n",
    "\n",
    "# Initialize OpenAI embeddings\n",
    "embeddings = OpenAIEmbeddings(model=\"text-embedding-3-large\")\n",
    "\n",
    "# Initialize Chroma vector store\n",
    "vector_store = Chroma(\n",
    "    collection_name=\"example_collection\",\n",
    "    embedding_function=embeddings,\n",
    "    persist_directory=\"./shwet_rag_db3\"  # Directory to save data locally\n",
    ")\n",
    "\n",
    "# Read data from CSV file\n",
    "df = pd.read_csv(\"rag_data.csv\")\n",
    "notes = df['notes'].tolist()\n",
    "\n",
    "# Create Document objects from notes and add them to the vector store\n",
    "documents = [Document(page_content=note) for note in notes]\n",
    "vector_store.add_documents(documents=documents)\n"
   ]
  },
  {
   "cell_type": "code",
   "execution_count": 4,
   "metadata": {},
   "outputs": [
    {
     "name": "stdout",
     "output_type": "stream",
     "text": [
      "* What is SMARO in teleradiology services? A: SMARO stands for Smart Radiology Operations. It's an advanced system that uses automation and AI-driven processes to optimize radiology workflows. SMARO helps prioritize and streamline imaging studies, enhancing efficiency in radiology service delivery. [{}]\n",
      "* How does SMARO benefit healthcare providers? A: SMARO improves operational efficiency by automating tasks like study prioritization and routing. This reduces turnaround times for image interpretations, allowing healthcare providers to deliver timely and accurate diagnoses. [{}]\n"
     ]
    }
   ],
   "source": [
    "import pandas as pd\n",
    "from langchain_chroma import Chroma\n",
    "from langchain_openai import OpenAIEmbeddings\n",
    "from dotenv import load_dotenv\n",
    "from uuid import uuid4\n",
    "from langchain.docstore.document import Document\n",
    "\n",
    "# Load environment variables\n",
    "load_dotenv()\n",
    "\n",
    "# Initialize OpenAI embeddings\n",
    "embeddings = OpenAIEmbeddings(model=\"text-embedding-3-large\")\n",
    "\n",
    "# Initialize Chroma vector store\n",
    "vector_store = Chroma(\n",
    "    collection_name=\"example_collection\",\n",
    "    embedding_function=embeddings,\n",
    "    persist_directory=\"./shwet_rag_db3\"  # Directory to save data locally\n",
    ")\n",
    "\n",
    "results = vector_store.similarity_search(\n",
    "    \"What is SMARO in teleradiology services?\",\n",
    "    k=2,\n",
    ")\n",
    "for res in results:\n",
    "    print(f\"* {res.page_content} [{res.metadata}]\")"
   ]
  },
  {
   "cell_type": "code",
   "execution_count": null,
   "metadata": {},
   "outputs": [],
   "source": []
  }
 ],
 "metadata": {
  "kernelspec": {
   "display_name": "venv_rag",
   "language": "python",
   "name": "python3"
  },
  "language_info": {
   "codemirror_mode": {
    "name": "ipython",
    "version": 3
   },
   "file_extension": ".py",
   "mimetype": "text/x-python",
   "name": "python",
   "nbconvert_exporter": "python",
   "pygments_lexer": "ipython3",
   "version": "3.11.0"
  }
 },
 "nbformat": 4,
 "nbformat_minor": 2
}
